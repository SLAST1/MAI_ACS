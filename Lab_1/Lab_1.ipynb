{
 "cells": [
  {
   "cell_type": "markdown",
   "metadata": {},
   "source": [
    "# Лабораторная работа №1\n",
    "\n",
    "## Группа: М8О-206Б-19\n",
    "## Студент: Пивницкий Д.С.\n",
    "## Вариант: 19"
   ]
  },
  {
   "cell_type": "markdown",
   "metadata": {},
   "source": [
    "## <span style=\"color:gray\">Часть 1 - Квадратик</span>"
   ]
  },
  {
   "cell_type": "code",
   "execution_count": 147,
   "metadata": {},
   "outputs": [
    {
     "data": {
      "image/png": "[encoded data removed]",
      "text/plain": [
       "Graphics object consisting of 2 graphics primitives"
      ]
     },
     "metadata": {},
     "output_type": "display_data"
    }
   ],
   "source": [
    "a = 10\n",
    "b = 13\n",
    "c = 15\n",
    "rectangle_src = matrix([[0, 0], [0, a], [a, a], [a, 0], [0, 0]])\n",
    "alpha = math.radians(45)\n",
    "mat_rot = matrix([[cos(alpha), -sin(alpha)], [sin(alpha), cos(alpha)]])\n",
    "mat_move = matrix([[b, c], [b, c], [b, c], [b, c], [b, c]])\n",
    "rectangle_moved = rectangle_src * mat_rot + mat_move\n",
    "show(line(rectangle_src) + line(rectangle_moved), xmin = 0, xmax = 30, ymin = 0, ymax = 25, aspect_ratio = 1)"
   ]
  },
  {
   "cell_type": "markdown",
   "metadata": {},
   "source": [
    "## <span style=\"color:gray\">Часть 2 - Исследование функции</span>"
   ]
  },
  {
   "cell_type": "code",
   "execution_count": 148,
   "metadata": {},
   "outputs": [],
   "source": [
    "y = (x**3-x**2-x+1)**(1/3) / tan(x)"
   ]
  },
  {
   "cell_type": "markdown",
   "metadata": {},
   "source": [
    "Для заданной формулой функции найти:\n",
    "<pre>\n",
    "1. Область определения функции.\n",
    "2. Является ли функция четной или нечетной, является ли периодической.\n",
    "3. Точки пересечения графика с осями координат.\n",
    "4. Промежутки знакопостоянства.\n",
    "5. Промежутки возрастания и убывания.\n",
    "6. Точки экстремума и значения в этих точках.\n",
    "7. Непрерывность. Наличие точек разрыва и их классификация.\n",
    "8. Асимптоты.\n",
    "</pre>"
   ]
  },
  {
   "cell_type": "markdown",
   "metadata": {},
   "source": [
    "Номер варианта: **4**"
   ]
  },
  {
   "cell_type": "code",
   "execution_count": 149,
   "metadata": {},
   "outputs": [
    {
     "data": {
      "text/html": [
       "<html><script type=\"math/tex; mode=display\">\\newcommand{\\Bold}[1]{\\mathbf{#1}}\\frac{{\\left(x^{3} - x^{2} - x + 1\\right)}^{\\frac{1}{3}}}{\\tan\\left(x\\right)}</script></html>"
      ],
      "text/latex": [
       "\\begin{math}\n",
       "\\newcommand{\\Bold}[1]{\\mathbf{#1}}\\frac{{\\left(x^{3} - x^{2} - x + 1\\right)}^{\\frac{1}{3}}}{\\tan\\left(x\\right)}\n",
       "\\end{math}"
      ],
      "text/plain": [
       "(x^3 - x^2 - x + 1)^(1/3)/tan(x)"
      ]
     },
     "metadata": {},
     "output_type": "display_data"
    }
   ],
   "source": [
    "show(y)"
   ]
  },
  {
   "cell_type": "code",
   "execution_count": 150,
   "metadata": {
    "scrolled": true
   },
   "outputs": [
    {
     "data": {
      "image/png": "[encoded data removed]",
      "text/plain": [
       "Graphics object consisting of 2 graphics primitives"
      ]
     },
     "metadata": {},
     "output_type": "display_data"
    }
   ],
   "source": [
    "# От -inf до -1\n",
    "f1(x) = -(-(x^3 - x^2 - x + 1))^(1/3) / tan(x)\n",
    "# От -1 до +inf\n",
    "f2(x) = (x^3 - x^2 - x + 1)^(1/3) / tan(x)\n",
    "# Переменная, хранящую функцию целиком\n",
    "f(x) = (x^3 - x^2 - x + 1)^(1/3) / tan(x)\n",
    "\n",
    "plot_left = plot(f1, (x, -10, -1), ymin = -5, ymax = 5)\n",
    "plot_right =  plot(f2, (x, -1, 10), ymin = -5, ymax = 5)\n",
    "show(plot_left + plot_right, ymin = -5, ymax = 5, aspect_ratio=1)"
   ]
  },
  {
   "cell_type": "markdown",
   "metadata": {},
   "source": [
    "Исследуем функцию на промежутке **[-pi/2, pi/2]**\n",
    "***"
   ]
  },
  {
   "cell_type": "markdown",
   "metadata": {},
   "source": [
    "**1. Область определения** \n",
    "\n",
    "Так как $tan(x)$ не должен быть равен нулю\n",
    "\n",
    "D: $x \\neq \\pi k, \\forall k \\in Z$\n",
    "***"
   ]
  },
  {
   "cell_type": "markdown",
   "metadata": {},
   "source": [
    "**2. Чётность функции**\n",
    "\n",
    "Если функция является четной, то $f(x) = f(-x)$. Тогда $f(x) - f(-x) = 0$"
   ]
  },
  {
   "cell_type": "code",
   "execution_count": 151,
   "metadata": {},
   "outputs": [
    {
     "data": {
      "text/html": [
       "<html><script type=\"math/tex; mode=display\">\\newcommand{\\Bold}[1]{\\mathbf{#1}}\\frac{{\\left(x^{3} - x^{2} - x + 1\\right)}^{\\frac{1}{3}}}{\\tan\\left(x\\right)} + \\frac{{\\left(-x^{3} - x^{2} + x + 1\\right)}^{\\frac{1}{3}}}{\\tan\\left(x\\right)}</script></html>"
      ],
      "text/latex": [
       "\\begin{math}\n",
       "\\newcommand{\\Bold}[1]{\\mathbf{#1}}\\frac{{\\left(x^{3} - x^{2} - x + 1\\right)}^{\\frac{1}{3}}}{\\tan\\left(x\\right)} + \\frac{{\\left(-x^{3} - x^{2} + x + 1\\right)}^{\\frac{1}{3}}}{\\tan\\left(x\\right)}\n",
       "\\end{math}"
      ],
      "text/plain": [
       "(x^3 - x^2 - x + 1)^(1/3)/tan(x) + (-x^3 - x^2 + x + 1)^(1/3)/tan(x)"
      ]
     },
     "metadata": {},
     "output_type": "display_data"
    }
   ],
   "source": [
    "y_even = (f(x) - f(-x)).expand().simplify()\n",
    "show(y_even)"
   ]
  },
  {
   "cell_type": "markdown",
   "metadata": {},
   "source": [
    "Так как выражение $y(x) - y(-x)$ не равно нулю, то $y(x)$ **не четна**.\n",
    "***\n",
    "Если функция является нечетной, то $f(-x) = -f(x)$. Тогда $f(-x) + f(x) = 0$"
   ]
  },
  {
   "cell_type": "code",
   "execution_count": 152,
   "metadata": {},
   "outputs": [
    {
     "data": {
      "text/html": [
       "<html><script type=\"math/tex; mode=display\">\\newcommand{\\Bold}[1]{\\mathbf{#1}}\\frac{{\\left(x^{3} - x^{2} - x + 1\\right)}^{\\frac{1}{3}}}{\\tan\\left(x\\right)} - \\frac{{\\left(-x^{3} - x^{2} + x + 1\\right)}^{\\frac{1}{3}}}{\\tan\\left(x\\right)}</script></html>"
      ],
      "text/latex": [
       "\\begin{math}\n",
       "\\newcommand{\\Bold}[1]{\\mathbf{#1}}\\frac{{\\left(x^{3} - x^{2} - x + 1\\right)}^{\\frac{1}{3}}}{\\tan\\left(x\\right)} - \\frac{{\\left(-x^{3} - x^{2} + x + 1\\right)}^{\\frac{1}{3}}}{\\tan\\left(x\\right)}\n",
       "\\end{math}"
      ],
      "text/plain": [
       "(x^3 - x^2 - x + 1)^(1/3)/tan(x) - (-x^3 - x^2 + x + 1)^(1/3)/tan(x)"
      ]
     },
     "metadata": {},
     "output_type": "display_data"
    }
   ],
   "source": [
    "y_odd = (f(-x) + f(x)).expand().simplify()\n",
    "show(y_odd)"
   ]
  },
  {
   "cell_type": "markdown",
   "metadata": {},
   "source": [
    "Так как выражение $y(-x) + y(x)$ не равно нулю, то $y(x)$ **не нечетна**.\n",
    "\n",
    "Исходя из вышеописанного, можем сказать что **функция общего вида**.\n",
    "***"
   ]
  },
  {
   "cell_type": "markdown",
   "metadata": {},
   "source": [
    "**3. Точки пересечения**\n",
    "\n",
    "Давайте рассмотрим следующие уравнения:\n",
    "* $f(x) = 0$ - пересечение графика функции с осью абсцисс\n",
    "* $f(0) = x$ - пересечение графика функции с осью ординат\n",
    "\n",
    "В точке 0, функция $f$ не определена, следовательно у графика функции **нет пересечений с осью ординат**.\n",
    "\n",
    "Что бы найти пересечения графика функции с осью абсцисс, нужно решить уравнение $f(x) = 0$:\n",
    "***"
   ]
  },
  {
   "cell_type": "code",
   "execution_count": 153,
   "metadata": {},
   "outputs": [
    {
     "name": "stdout",
     "output_type": "stream",
     "text": [
      "Функция y(x) пересекается с осью абсцисс в точках: x == -1 ; x == 1\n"
     ]
    }
   ],
   "source": [
    "solutions = solve(f==0, x)\n",
    "print(\"Функция y(x) пересекается с осью абсцисс в точках: \" + \" ; \".join(map(str, solutions)))"
   ]
  },
  {
   "cell_type": "markdown",
   "metadata": {},
   "source": [
    "На самом деле это не совсем правильный ответ, так как в метод solve не указал бексонечное кол-во корней, которые дает знаменатель $tan(x)$.\n",
    "Давайте попробуем упростить функцию, а затем снова найти корни:"
   ]
  },
  {
   "cell_type": "code",
   "execution_count": 154,
   "metadata": {},
   "outputs": [
    {
     "name": "stdout",
     "output_type": "stream",
     "text": [
      "Функция y(x) пересекается с осью абсцисс в точках: x == 1/2*pi ; x == -1 ; x == 1\n"
     ]
    }
   ],
   "source": [
    "f_sf(x) = f(x).simplify_full()\n",
    "solutions = solve(f_sf==0, x)\n",
    "print(\"Функция y(x) пересекается с осью абсцисс в точках: \" + \" ; \".join(map(str, solutions)))"
   ]
  },
  {
   "cell_type": "markdown",
   "metadata": {},
   "source": [
    "Это уже больше похоже на правду. Делаем вывод, что график функции **имеет пересечения с осью абсцисс** в точках: $x = -1; x = 1; x = \\frac{\\pi}{2} + \\pi k$\n",
    "***"
   ]
  },
  {
   "cell_type": "markdown",
   "metadata": {},
   "source": [
    "**4. Промежутки знакопостоянства**\n",
    "\n",
    "Функция меняет знак в точках $f(x) = 0$, кроме того, она меняет знак в точках разрыва."
   ]
  },
  {
   "cell_type": "code",
   "execution_count": 155,
   "metadata": {},
   "outputs": [
    {
     "data": {
      "image/png": "[encoded data removed]",
      "text/plain": [
       "Graphics object consisting of 41 graphics primitives"
      ]
     },
     "metadata": {},
     "output_type": "display_data"
    }
   ],
   "source": [
    "# отрисовка отрезка - основная линия для графика промежутков знакопостоянства\n",
    "intervals_of_constancy = plot(0, xmin=-5, xmax=5, ymin=-0.5, ymax=0.5)\n",
    "\n",
    "def add_point(x):\n",
    "    graphic = point((x, 0), color=\"red\", size=30, zorder=10)\n",
    "    graphic += text(\"{:0.2f}\".format(x.n()), (x, 0.1), color=\"black\", fontsize=9)\n",
    "    return graphic\n",
    "\n",
    "def add_interval(x1, x2):\n",
    "    graphic = add_point(x1)\n",
    "    graphic += add_point(x2)\n",
    "    graphic += text(\"+\" if (f((x1 + x2) / 2).n() > 0) else \"-\", (((x1 + x2)/2).n(), 0.05), color=\"black\", fontsize=9)\n",
    "    return graphic\n",
    "\n",
    "# Положительная область\n",
    "intervals_of_constancy  += add_interval(0, 1)\n",
    "intervals_of_constancy  += add_interval(1, pi/2)\n",
    "intervals_of_constancy  += add_interval(pi/2, pi)\n",
    "intervals_of_constancy  += add_interval(pi, 3*pi/2)\n",
    "\n",
    "# Отрицательная область\n",
    "intervals_of_constancy  += add_interval(0, -1)\n",
    "intervals_of_constancy  += add_interval(-1, -pi/2)\n",
    "intervals_of_constancy  += add_interval(-pi/2, -pi)\n",
    "intervals_of_constancy  += add_interval(-pi, -3*pi/2)\n",
    "\n",
    "# оси не нужны - скрываем\n",
    "intervals_of_constancy.show(axes=False)"
   ]
  },
  {
   "cell_type": "markdown",
   "metadata": {},
   "source": [
    "Данная функция имеет бесконечное число промежутков знакопостоянства: например на промежутке $[\\frac{\\pi}{2}; +\\infty]$ функция функция принимает положительные значения на промежутках $[\\frac{\\pi}{2} + \\pi k; \\pi + \\pi k], k \\in N$.\n",
    "***"
   ]
  },
  {
   "cell_type": "markdown",
   "metadata": {},
   "source": [
    "**5. Промежутки возрастания и убывания**\n",
    "\n",
    "Задача нахождения промежутков возрастания и убывания очень похожа на задачу нахождения промежутков знакопстоянства:\n",
    "1. Нужно найти производную.\n",
    "2. Если значение производной положительное - функция возрастает, иначе - убывает"
   ]
  },
  {
   "cell_type": "code",
   "execution_count": 156,
   "metadata": {},
   "outputs": [
    {
     "data": {
      "text/html": [
       "<html><script type=\"math/tex; mode=display\">\\newcommand{\\Bold}[1]{\\mathbf{#1}}x \\ {\\mapsto}\\ -\\frac{3 \\, x^{3} - {\\left(3 \\, x^{2} - 2 \\, x - 1\\right)} \\cos\\left(x\\right) \\sin\\left(x\\right) - 3 \\, x^{2} - 3 \\, x + 3}{3 \\, {\\left(x^{3} - x^{2} - x + 1\\right)}^{\\frac{2}{3}} \\sin\\left(x\\right)^{2}}</script></html>"
      ],
      "text/latex": [
       "\\begin{math}\n",
       "\\newcommand{\\Bold}[1]{\\mathbf{#1}}x \\ {\\mapsto}\\ -\\frac{3 \\, x^{3} - {\\left(3 \\, x^{2} - 2 \\, x - 1\\right)} \\cos\\left(x\\right) \\sin\\left(x\\right) - 3 \\, x^{2} - 3 \\, x + 3}{3 \\, {\\left(x^{3} - x^{2} - x + 1\\right)}^{\\frac{2}{3}} \\sin\\left(x\\right)^{2}}\n",
       "\\end{math}"
      ],
      "text/plain": [
       "x |--> -1/3*(3*x^3 - (3*x^2 - 2*x - 1)*cos(x)*sin(x) - 3*x^2 - 3*x + 3)/((x^3 - x^2 - x + 1)^(2/3)*sin(x)^2)"
      ]
     },
     "metadata": {},
     "output_type": "display_data"
    }
   ],
   "source": [
    "# Находим производную\n",
    "df1 = f1.derivative().expand().simplify_full()\n",
    "df2 = f2.derivative().expand().simplify_full()\n",
    "df = f.derivative().expand().simplify_full()\n",
    "show(df)"
   ]
  },
  {
   "cell_type": "code",
   "execution_count": 157,
   "metadata": {},
   "outputs": [
    {
     "data": {
      "text/html": [
       "<html><script type=\"math/tex; mode=display\">\\newcommand{\\Bold}[1]{\\mathbf{#1}}x = 1</script></html>"
      ],
      "text/latex": [
       "\\begin{math}\n",
       "\\newcommand{\\Bold}[1]{\\mathbf{#1}}x = 1\n",
       "\\end{math}"
      ],
      "text/plain": [
       "x == 1"
      ]
     },
     "metadata": {},
     "output_type": "display_data"
    },
    {
     "name": "stdout",
     "output_type": "stream",
     "text": [
      "x = 1.0\n"
     ]
    },
    {
     "data": {
      "text/html": [
       "<html><script type=\"math/tex; mode=display\">\\newcommand{\\Bold}[1]{\\mathbf{#1}}x = \\frac{1}{2} \\, \\cos\\left(x\\right) \\sin\\left(x\\right) - \\frac{1}{6} \\, \\sqrt{9 \\, \\cos\\left(x\\right)^{2} \\sin\\left(x\\right)^{2} + 12 \\, \\cos\\left(x\\right) \\sin\\left(x\\right) + 36}</script></html>"
      ],
      "text/latex": [
       "\\begin{math}\n",
       "\\newcommand{\\Bold}[1]{\\mathbf{#1}}x = \\frac{1}{2} \\, \\cos\\left(x\\right) \\sin\\left(x\\right) - \\frac{1}{6} \\, \\sqrt{9 \\, \\cos\\left(x\\right)^{2} \\sin\\left(x\\right)^{2} + 12 \\, \\cos\\left(x\\right) \\sin\\left(x\\right) + 36}\n",
       "\\end{math}"
      ],
      "text/plain": [
       "x == 1/2*cos(x)*sin(x) - 1/6*sqrt(9*cos(x)^2*sin(x)^2 + 12*cos(x)*sin(x) + 36)"
      ]
     },
     "metadata": {},
     "output_type": "display_data"
    },
    {
     "name": "stdout",
     "output_type": "stream",
     "text": [
      "x = -1.142665336153391\n"
     ]
    },
    {
     "data": {
      "text/html": [
       "<html><script type=\"math/tex; mode=display\">\\newcommand{\\Bold}[1]{\\mathbf{#1}}x = \\frac{1}{2} \\, \\cos\\left(x\\right) \\sin\\left(x\\right) + \\frac{1}{6} \\, \\sqrt{9 \\, \\cos\\left(x\\right)^{2} \\sin\\left(x\\right)^{2} + 12 \\, \\cos\\left(x\\right) \\sin\\left(x\\right) + 36}</script></html>"
      ],
      "text/latex": [
       "\\begin{math}\n",
       "\\newcommand{\\Bold}[1]{\\mathbf{#1}}x = \\frac{1}{2} \\, \\cos\\left(x\\right) \\sin\\left(x\\right) + \\frac{1}{6} \\, \\sqrt{9 \\, \\cos\\left(x\\right)^{2} \\sin\\left(x\\right)^{2} + 12 \\, \\cos\\left(x\\right) \\sin\\left(x\\right) + 36}\n",
       "\\end{math}"
      ],
      "text/plain": [
       "x == 1/2*cos(x)*sin(x) + 1/6*sqrt(9*cos(x)^2*sin(x)^2 + 12*cos(x)*sin(x) + 36)"
      ]
     },
     "metadata": {},
     "output_type": "display_data"
    },
    {
     "name": "stdout",
     "output_type": "stream",
     "text": [
      "x = 1.223888327747434\n"
     ]
    }
   ],
   "source": [
    "# Находим экстремумы\n",
    "solutions = solve(df==0, x)\n",
    "solutions_num = [find_root(sol, -5, 5) for sol in solutions]\n",
    "for sol in solutions:\n",
    "    show(sol)\n",
    "    print(f\"x = {find_root(sol, -5, 5)}\")"
   ]
  },
  {
   "cell_type": "code",
   "execution_count": 158,
   "metadata": {},
   "outputs": [
    {
     "data": {
      "image/png": "[encoded data removed]",
      "text/plain": [
       "Graphics object consisting of 18 graphics primitives"
      ]
     },
     "metadata": {},
     "output_type": "display_data"
    }
   ],
   "source": [
    "# Изображаем ответ\n",
    "def add_point(x):\n",
    "    graphic = point((x, 0), color=\"red\", size=30, zorder=10)\n",
    "    graphic += text(\"{:0.2f}\".format(x), (x, 0.1), color=\"black\", fontsize=9)\n",
    "    return graphic\n",
    "\n",
    "def add_interval(x1, x2):\n",
    "    graphic = add_point(x1)\n",
    "    graphic += add_point(x2)\n",
    "    graphic += text(\"+\" if (df((x1 + x2) / 2).n() > 0) else \"-\", (((x1 + x2)/2), 0.05), color=\"black\", fontsize=9)\n",
    "    return graphic\n",
    "\n",
    "# Границы промежутков\n",
    "roots_df = [-1.142665336153391, 0, 1, 1.223888327747434]\n",
    "intervals_of_monotonics = plot(0, xmin=-2, xmax=2, ymin=-0.5, ymax=0.5)\n",
    "for i in range(0, len(roots_df)-1):\n",
    "    intervals_of_monotonics += add_interval(roots_df[i], roots_df[i+1])\n",
    "    \n",
    "# Границы\n",
    "intervals_of_monotonics += text(\"+\", ((-2 + roots_df[0])/2, 0.05), color=\"black\", fontsize=9)\n",
    "intervals_of_monotonics += text(\"-\", ((2 + roots_df[-1])/2, 0.05), color=\"black\", fontsize=9)\n",
    "    \n",
    "intervals_of_monotonics.show(axes=False)"
   ]
  },
  {
   "cell_type": "markdown",
   "metadata": {},
   "source": [
    "**6. Точки экстремума и значения в этих точках**\n",
    "\n",
    "Мы уже нашли корни первой производной. Теперь нужно проверить, меняет ли знак производная при переходе через корень.\n",
    "Таким образом мы имеем два локальных **максимума**: $-1.14, 1.22$; А так же оидн **локальный минимум**: $1.00$\n",
    "***"
   ]
  },
  {
   "cell_type": "markdown",
   "metadata": {},
   "source": [
    "**7. Непрерывность. Наличие точек разрыва и их классификация**"
   ]
  },
  {
   "cell_type": "code",
   "execution_count": 159,
   "metadata": {},
   "outputs": [
    {
     "name": "stdout",
     "output_type": "stream",
     "text": [
      "Левосторонний предел: -Infinity\n",
      "Правосторонний предел: +Infinity\n"
     ]
    }
   ],
   "source": [
    "print(\"Левосторонний предел: \" +  str(lim(f(x), x=0, dir=\"left\")))\n",
    "print(\"Правосторонний предел: \" +  str(lim(f(x), x=0, dir=\"right\")))"
   ]
  },
  {
   "cell_type": "markdown",
   "metadata": {},
   "source": [
    "Все односторонние пределы бесконечны, значит функция непрырывна на всей числовой прямой кроме точек x = inf и x = -inf, в которых она терпит **разрывы второго рода.**\n",
    "***"
   ]
  },
  {
   "cell_type": "markdown",
   "metadata": {},
   "source": [
    "**8. Асимптоты**\n",
    "\n",
    "Мы уже показали, что мы имеем бесконечное множество разрывов второго рода, следовательно мы имеем **бесконечное множество вертикальных асимптот**, совпадающих с множеством разрывов.\n",
    "\n",
    "Проверим наличие наклонных асимптот:"
   ]
  },
  {
   "cell_type": "code",
   "execution_count": 160,
   "metadata": {},
   "outputs": [
    {
     "name": "stdout",
     "output_type": "stream",
     "text": [
      "und\n",
      "und\n"
     ]
    }
   ],
   "source": [
    "print(lim(f(x) / x, x = +Infinity))\n",
    "print(lim(f(x) / x, x = -Infinity))"
   ]
  },
  {
   "cell_type": "markdown",
   "metadata": {},
   "source": [
    "Так как данных пределов не существует, то и **наклонных асимптот нет**."
   ]
  }
 ],
 "metadata": {
  "kernelspec": {
   "display_name": "SageMath 9.2",
   "language": "sage",
   "name": "sagemath"
  },
  "language_info": {
   "codemirror_mode": {
    "name": "ipython",
    "version": 3
   },
   "file_extension": ".py",
   "mimetype": "text/x-python",
   "name": "python",
   "nbconvert_exporter": "python",
   "pygments_lexer": "ipython3",
   "version": "3.7.7"
  }
 },
 "nbformat": 4,
 "nbformat_minor": 4
}
